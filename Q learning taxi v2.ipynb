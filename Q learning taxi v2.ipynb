{
 "cells": [
  {
   "cell_type": "code",
   "execution_count": 17,
   "metadata": {},
   "outputs": [
    {
     "name": "stdout",
     "output_type": "stream",
     "text": [
      "+---------+\n",
      "|R: |\u001b[43m \u001b[0m: :\u001b[35mG\u001b[0m|\n",
      "| : : : : |\n",
      "| : : : : |\n",
      "| | : | : |\n",
      "|\u001b[34;1mY\u001b[0m| : |B: |\n",
      "+---------+\n",
      "\n"
     ]
    }
   ],
   "source": [
    "import gym\n",
    "import random\n",
    "import time\n",
    "env=gym.make(\"Taxi-v2\").env\n",
    "env.render()"
   ]
  },
  {
   "cell_type": "code",
   "execution_count": 7,
   "metadata": {},
   "outputs": [
    {
     "name": "stdout",
     "output_type": "stream",
     "text": [
      "+---------+\n",
      "|\u001b[35mR\u001b[0m: | : :G|\n",
      "| : : : : |\n",
      "| : : : : |\n",
      "| | : | : |\n",
      "|\u001b[34;1mY\u001b[0m| : |\u001b[43mB\u001b[0m: |\n",
      "+---------+\n",
      "  (South)\n",
      "+---------+\n",
      "|\u001b[35mR\u001b[0m: | : :G|\n",
      "| : : : : |\n",
      "| : : : : |\n",
      "| | : |\u001b[43m \u001b[0m: |\n",
      "|\u001b[34;1mY\u001b[0m| : |B: |\n",
      "+---------+\n",
      "  (North)\n"
     ]
    }
   ],
   "source": [
    "env.render()\n",
    "env.step(1)\n",
    "env.render()"
   ]
  },
  {
   "cell_type": "code",
   "execution_count": 67,
   "metadata": {},
   "outputs": [],
   "source": [
    "import numpy as np\n",
    "\n",
    "#random initialiation instead of zeros\n",
    "q_table=np.random.randn(env.observation_space.n,env.action_space.n)*0.1\n",
    "#q_table=np.zeros((env.observation_space.n,env.action_space.n))"
   ]
  },
  {
   "cell_type": "code",
   "execution_count": 68,
   "metadata": {},
   "outputs": [],
   "source": [
    "lr=0.1\n",
    "gamma=0.6\n",
    "epsilon=0.1\n",
    "\n",
    "\n",
    "all_num_steps=[]\n",
    "all_penalties=[]\n",
    "\n",
    "num_iter=8000\n",
    "\n",
    "save_iter=[800,1000,4000,num_iter-1]\n",
    "saved_models={}\n",
    "\n",
    "for iter in range(num_iter):\n",
    "    curr_state=env.reset()\n",
    "    num_steps=0\n",
    "    penalties=0\n",
    "    done=False\n",
    "    \n",
    "    #Play until done\n",
    "    while not done:\n",
    "        \n",
    "        #random sampling\n",
    "        if(random.uniform(0,1) < epsilon):\n",
    "            action = env.action_space.sample()\n",
    "        #using the q table for action\n",
    "        else:\n",
    "            action = np.argmax(q_table[curr_state])\n",
    "        \n",
    "        next_state, reward, done, info = env.step(action)\n",
    "        if reward == -10:\n",
    "            penalties+=1\n",
    "        num_steps+=1\n",
    "        \n",
    "        prev_qval=q_table[curr_state][action]\n",
    "        #update Q table\n",
    "        q_table[curr_state][action] = (1-lr)*prev_qval + lr*(reward + gamma*np.max(q_table[next_state]))\n",
    "        \n",
    "        curr_state=next_state\n",
    "    if iter%150==0:\n",
    "        all_num_steps.append(num_steps)\n",
    "        all_penalties.append(penalties)\n",
    "    if iter in save_iter:\n",
    "        saved_models[iter]=q_table.copy()\n",
    "#     if iter%5000==0:\n",
    "#         print(penalties)"
   ]
  },
  {
   "cell_type": "code",
   "execution_count": 63,
   "metadata": {},
   "outputs": [
    {
     "data": {
      "image/png": "[encoded data removed]",
      "text/plain": [
       "<Figure size 432x288 with 1 Axes>"
      ]
     },
     "metadata": {
      "needs_background": "light"
     },
     "output_type": "display_data"
    },
    {
     "data": {
      "image/png": "[encoded data removed]",
      "text/plain": [
       "<Figure size 432x288 with 1 Axes>"
      ]
     },
     "metadata": {
      "needs_background": "light"
     },
     "output_type": "display_data"
    }
   ],
   "source": [
    "import matplotlib.pyplot as plt\n",
    "plt.plot(np.array(range(35))*150,all_num_steps[:35])\n",
    "plt.ylabel('num steps taken')\n",
    "plt.xlabel('iterations')\n",
    "plt.show();\n",
    "\n",
    "plt.plot(np.array(range(35))*150,all_penalties[:35])\n",
    "plt.ylabel('number of penalties')\n",
    "plt.xlabel('iterations')\n",
    "plt.show();\n"
   ]
  },
  {
   "cell_type": "code",
   "execution_count": 64,
   "metadata": {},
   "outputs": [
    {
     "name": "stdout",
     "output_type": "stream",
     "text": [
      "+---------+\n",
      "|\u001b[35m\u001b[34;1m\u001b[43mR\u001b[0m\u001b[0m\u001b[0m: | : :G|\n",
      "| : : : : |\n",
      "| : : : : |\n",
      "| | : | : |\n",
      "|Y| : |B: |\n",
      "+---------+\n",
      "  (Dropoff)\n",
      "\n"
     ]
    }
   ],
   "source": [
    "from IPython.display import clear_output\n",
    "\n",
    "#Test the model\n",
    "curr_state=env.reset()\n",
    "num_steps=0\n",
    "penalties=0\n",
    "done=False\n",
    "\n",
    "#Play until done\n",
    "while not done:\n",
    "    clear_output(wait=True)\n",
    "    action = np.argmax(q_table[curr_state])\n",
    "\n",
    "    next_state, reward, done, info = env.step(action)\n",
    "    if reward == -10:\n",
    "        penalties+=1\n",
    "    num_steps+=1\n",
    "    curr_state=next_state\n",
    "    print(env.render(mode='ansi'))\n",
    "    #print(curr_state)\n",
    "    time.sleep(1)\n"
   ]
  },
  {
   "cell_type": "code",
   "execution_count": 71,
   "metadata": {},
   "outputs": [
    {
     "name": "stdout",
     "output_type": "stream",
     "text": [
      "7999\n",
      "+---------+\n",
      "|R: | : :\u001b[35m\u001b[34;1m\u001b[43mG\u001b[0m\u001b[0m\u001b[0m|\n",
      "| : : : : |\n",
      "| : : : : |\n",
      "| | : | : |\n",
      "|Y| : |B: |\n",
      "+---------+\n",
      "  (Dropoff)\n",
      "\n",
      "85\n"
     ]
    }
   ],
   "source": [
    "#Visualize models saved at multiple iterations\n",
    "\n",
    "for iter in saved_models:\n",
    "    curr_state=env.reset()\n",
    "    num_steps=0\n",
    "    penalties=0\n",
    "    done=False\n",
    "    curr_qtable=saved_models[iter]\n",
    "    #Play until done\n",
    "    while not done:\n",
    "        if num_steps > 100:\n",
    "            done=True\n",
    "            continue\n",
    "        clear_output(wait=True)\n",
    "        print(iter)\n",
    "        action = np.argmax(curr_qtable[curr_state])\n",
    "\n",
    "        next_state, reward, done, info = env.step(action)\n",
    "        if reward == -10:\n",
    "            penalties+=1\n",
    "        num_steps+=1\n",
    "        curr_state=next_state\n",
    "        print(env.render(mode='ansi'))\n",
    "        print(curr_state)\n",
    "        time.sleep(0.1)\n",
    "    #print(num_steps)\n",
    "    "
   ]
  }
 ],
 "metadata": {
  "kernelspec": {
   "display_name": "Python 3",
   "language": "python",
   "name": "python3"
  },
  "language_info": {
   "codemirror_mode": {
    "name": "ipython",
    "version": 3
   },
   "file_extension": ".py",
   "mimetype": "text/x-python",
   "name": "python",
   "nbconvert_exporter": "python",
   "pygments_lexer": "ipython3",
   "version": "3.7.3"
  }
 },
 "nbformat": 4,
 "nbformat_minor": 2
}
