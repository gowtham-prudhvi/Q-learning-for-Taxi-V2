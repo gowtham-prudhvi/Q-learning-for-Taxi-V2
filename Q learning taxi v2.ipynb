{
 "cells": [
  {
   "cell_type": "code",
   "execution_count": 1,
   "metadata": {},
   "outputs": [
    {
     "name": "stdout",
     "output_type": "stream",
     "text": [
      "+---------+\n",
      "|\u001b[35mR\u001b[0m: | : :G|\n",
      "| : :\u001b[43m \u001b[0m: : |\n",
      "| : : : : |\n",
      "| | : | : |\n",
      "|\u001b[34;1mY\u001b[0m| : |B: |\n",
      "+---------+\n",
      "\n"
     ]
    }
   ],
   "source": [
    "import gym\n",
    "import random\n",
    "env=gym.make(\"Taxi-v2\").env\n",
    "env.render()"
   ]
  },
  {
   "cell_type": "code",
   "execution_count": null,
   "metadata": {},
   "outputs": [],
   "source": []
  },
  {
   "cell_type": "code",
   "execution_count": 7,
   "metadata": {},
   "outputs": [
    {
     "name": "stdout",
     "output_type": "stream",
     "text": [
      "+---------+\n",
      "|\u001b[35mR\u001b[0m: | : :G|\n",
      "| : : : : |\n",
      "| : : : : |\n",
      "| | : | : |\n",
      "|\u001b[34;1mY\u001b[0m| : |\u001b[43mB\u001b[0m: |\n",
      "+---------+\n",
      "  (South)\n",
      "+---------+\n",
      "|\u001b[35mR\u001b[0m: | : :G|\n",
      "| : : : : |\n",
      "| : : : : |\n",
      "| | : |\u001b[43m \u001b[0m: |\n",
      "|\u001b[34;1mY\u001b[0m| : |B: |\n",
      "+---------+\n",
      "  (North)\n"
     ]
    }
   ],
   "source": [
    "env.render()\n",
    "env.step(1)\n",
    "env.render()"
   ]
  },
  {
   "cell_type": "code",
   "execution_count": 33,
   "metadata": {},
   "outputs": [],
   "source": [
    "import numpy as np\n",
    "\n",
    "q_table=np.zeros((env.observation_space.n,env.action_space.n))"
   ]
  },
  {
   "cell_type": "code",
   "execution_count": 34,
   "metadata": {},
   "outputs": [
    {
     "name": "stdout",
     "output_type": "stream",
     "text": [
      "114\n",
      "1\n",
      "0\n",
      "1\n",
      "0\n",
      "0\n",
      "1\n",
      "0\n",
      "0\n",
      "0\n",
      "2\n",
      "1\n",
      "0\n",
      "0\n",
      "0\n",
      "2\n",
      "0\n",
      "0\n",
      "1\n",
      "0\n"
     ]
    }
   ],
   "source": [
    "lr=0.1\n",
    "gamma=0.6\n",
    "epsilon=0.1\n",
    "\n",
    "\n",
    "all_num_steps=[]\n",
    "all_penalties=[]\n",
    "\n",
    "num_iter=100000\n",
    "\n",
    "for iter in range(num_iter):\n",
    "    curr_state=env.reset()\n",
    "    num_steps=0\n",
    "    penalties=0\n",
    "    done=False\n",
    "    \n",
    "    #Play until done\n",
    "    while not done:\n",
    "        \n",
    "        #random sampling\n",
    "        if(random.uniform(0,1) < epsilon):\n",
    "            action = env.action_space.sample()\n",
    "        #using the q table for action\n",
    "        else:\n",
    "            action = np.argmax(q_table[curr_state])\n",
    "        \n",
    "        next_state, reward, done, info = env.step(action)\n",
    "        if reward == -10:\n",
    "            penalties+=1\n",
    "        num_steps+=1\n",
    "        \n",
    "        prev_qval=q_table[curr_state][action]\n",
    "        #update Q table\n",
    "        q_table[curr_state][action] = (1-lr)*prev_qval + lr*(reward + gamma*np.max(q_table[next_state]))\n",
    "        \n",
    "        curr_state=next_state\n",
    "    if iter%500==0:\n",
    "        all_num_steps.append(num_steps)\n",
    "        all_penalties.append(penalties)\n",
    "#     if iter%5000==0:\n",
    "#         print(penalties)"
   ]
  },
  {
   "cell_type": "code",
   "execution_count": 49,
   "metadata": {},
   "outputs": [
    {
     "data": {
      "image/png": "[encoded data removed]",
      "text/plain": [
       "<Figure size 432x288 with 1 Axes>"
      ]
     },
     "metadata": {
      "needs_background": "light"
     },
     "output_type": "display_data"
    },
    {
     "data": {
      "image/png": "[encoded data removed]",
      "text/plain": [
       "<Figure size 432x288 with 1 Axes>"
      ]
     },
     "metadata": {
      "needs_background": "light"
     },
     "output_type": "display_data"
    }
   ],
   "source": [
    "import matplotlib.pyplot as plt\n",
    "plt.plot(np.array(range(50))*500,all_num_steps[:50])\n",
    "plt.ylabel('num steps taken')\n",
    "plt.xlabel('iterations')\n",
    "plt.show();\n",
    "\n",
    "plt.plot(np.array(range(50))*500,all_penalties[:50])\n",
    "plt.ylabel('number of penalties')\n",
    "plt.xlabel('iterations')\n",
    "plt.show();\n"
   ]
  }
 ],
 "metadata": {
  "kernelspec": {
   "display_name": "Python 3",
   "language": "python",
   "name": "python3"
  },
  "language_info": {
   "codemirror_mode": {
    "name": "ipython",
    "version": 3
   },
   "file_extension": ".py",
   "mimetype": "text/x-python",
   "name": "python",
   "nbconvert_exporter": "python",
   "pygments_lexer": "ipython3",
   "version": "3.6.8"
  }
 },
 "nbformat": 4,
 "nbformat_minor": 2
}
